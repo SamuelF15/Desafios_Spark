{
 "cells": [
  {
   "cell_type": "code",
   "execution_count": 2,
   "id": "fa0bdf1b",
   "metadata": {},
   "outputs": [],
   "source": [
    "from pyspark.sql import SparkSession\n",
    "import pyspark.sql.functions as F"
   ]
  },
  {
   "cell_type": "code",
   "execution_count": 3,
   "id": "e568ab86",
   "metadata": {},
   "outputs": [],
   "source": [
    "spark = (\n",
    "    SparkSession.builder.appName(\"Desafio - pergunta 1 - Spark SQL\")\n",
    "    .config('spark.sql.repl.eagerEval.enabled', True)\n",
    "    .config(\"spark.sql.shuffle.partitions\", \"8\")\n",
    "    .getOrCreate()\n",
    ")"
   ]
  },
  {
   "cell_type": "code",
   "execution_count": 4,
   "id": "e04a11f9",
   "metadata": {},
   "outputs": [
    {
     "data": {
      "text/html": [
       "<table border='1'>\n",
       "<tr><th>PassengerId</th><th>Survived</th><th>Pclass</th><th>Name</th><th>Sex</th><th>Age</th><th>SibSp</th><th>Parch</th><th>Ticket</th><th>Fare</th><th>Cabin</th><th>Embarked</th></tr>\n",
       "<tr><td>1</td><td>0</td><td>3</td><td>Braund, Mr. Owen ...</td><td>male</td><td>22.0</td><td>1</td><td>0</td><td>A/5 21171</td><td>7.25</td><td>NULL</td><td>S</td></tr>\n",
       "<tr><td>2</td><td>1</td><td>1</td><td>Cumings, Mrs. Joh...</td><td>female</td><td>38.0</td><td>1</td><td>0</td><td>PC 17599</td><td>71.2833</td><td>C85</td><td>C</td></tr>\n",
       "<tr><td>3</td><td>1</td><td>3</td><td>Heikkinen, Miss. ...</td><td>female</td><td>26.0</td><td>0</td><td>0</td><td>STON/O2. 3101282</td><td>7.925</td><td>NULL</td><td>S</td></tr>\n",
       "<tr><td>4</td><td>1</td><td>1</td><td>Futrelle, Mrs. Ja...</td><td>female</td><td>35.0</td><td>1</td><td>0</td><td>113803</td><td>53.1</td><td>C123</td><td>S</td></tr>\n",
       "<tr><td>5</td><td>0</td><td>3</td><td>Allen, Mr. Willia...</td><td>male</td><td>35.0</td><td>0</td><td>0</td><td>373450</td><td>8.05</td><td>NULL</td><td>S</td></tr>\n",
       "<tr><td>6</td><td>0</td><td>3</td><td>Moran, Mr. James</td><td>male</td><td>NULL</td><td>0</td><td>0</td><td>330877</td><td>8.4583</td><td>NULL</td><td>Q</td></tr>\n",
       "<tr><td>7</td><td>0</td><td>1</td><td>McCarthy, Mr. Tim...</td><td>male</td><td>54.0</td><td>0</td><td>0</td><td>17463</td><td>51.8625</td><td>E46</td><td>S</td></tr>\n",
       "<tr><td>8</td><td>0</td><td>3</td><td>Palsson, Master. ...</td><td>male</td><td>2.0</td><td>3</td><td>1</td><td>349909</td><td>21.075</td><td>NULL</td><td>S</td></tr>\n",
       "<tr><td>9</td><td>1</td><td>3</td><td>Johnson, Mrs. Osc...</td><td>female</td><td>27.0</td><td>0</td><td>2</td><td>347742</td><td>11.1333</td><td>NULL</td><td>S</td></tr>\n",
       "<tr><td>10</td><td>1</td><td>2</td><td>Nasser, Mrs. Nich...</td><td>female</td><td>14.0</td><td>1</td><td>0</td><td>237736</td><td>30.0708</td><td>NULL</td><td>C</td></tr>\n",
       "<tr><td>11</td><td>1</td><td>3</td><td>Sandstrom, Miss. ...</td><td>female</td><td>4.0</td><td>1</td><td>1</td><td>PP 9549</td><td>16.7</td><td>G6</td><td>S</td></tr>\n",
       "<tr><td>12</td><td>1</td><td>1</td><td>Bonnell, Miss. El...</td><td>female</td><td>58.0</td><td>0</td><td>0</td><td>113783</td><td>26.55</td><td>C103</td><td>S</td></tr>\n",
       "<tr><td>13</td><td>0</td><td>3</td><td>Saundercock, Mr. ...</td><td>male</td><td>20.0</td><td>0</td><td>0</td><td>A/5. 2151</td><td>8.05</td><td>NULL</td><td>S</td></tr>\n",
       "<tr><td>14</td><td>0</td><td>3</td><td>Andersson, Mr. An...</td><td>male</td><td>39.0</td><td>1</td><td>5</td><td>347082</td><td>31.275</td><td>NULL</td><td>S</td></tr>\n",
       "<tr><td>15</td><td>0</td><td>3</td><td>Vestrom, Miss. Hu...</td><td>female</td><td>14.0</td><td>0</td><td>0</td><td>350406</td><td>7.8542</td><td>NULL</td><td>S</td></tr>\n",
       "<tr><td>16</td><td>1</td><td>2</td><td>Hewlett, Mrs. (Ma...</td><td>female</td><td>55.0</td><td>0</td><td>0</td><td>248706</td><td>16.0</td><td>NULL</td><td>S</td></tr>\n",
       "<tr><td>17</td><td>0</td><td>3</td><td>Rice, Master. Eugene</td><td>male</td><td>2.0</td><td>4</td><td>1</td><td>382652</td><td>29.125</td><td>NULL</td><td>Q</td></tr>\n",
       "<tr><td>18</td><td>1</td><td>2</td><td>Williams, Mr. Cha...</td><td>male</td><td>NULL</td><td>0</td><td>0</td><td>244373</td><td>13.0</td><td>NULL</td><td>S</td></tr>\n",
       "<tr><td>19</td><td>0</td><td>3</td><td>Vander Planke, Mr...</td><td>female</td><td>31.0</td><td>1</td><td>0</td><td>345763</td><td>18.0</td><td>NULL</td><td>S</td></tr>\n",
       "<tr><td>20</td><td>1</td><td>3</td><td>Masselmani, Mrs. ...</td><td>female</td><td>NULL</td><td>0</td><td>0</td><td>2649</td><td>7.225</td><td>NULL</td><td>C</td></tr>\n",
       "</table>\n",
       "only showing top 20 rows\n"
      ],
      "text/plain": [
       "+-----------+--------+------+--------------------+------+----+-----+-----+----------------+-------+-----+--------+\n",
       "|PassengerId|Survived|Pclass|                Name|   Sex| Age|SibSp|Parch|          Ticket|   Fare|Cabin|Embarked|\n",
       "+-----------+--------+------+--------------------+------+----+-----+-----+----------------+-------+-----+--------+\n",
       "|          1|       0|     3|Braund, Mr. Owen ...|  male|22.0|    1|    0|       A/5 21171|   7.25| NULL|       S|\n",
       "|          2|       1|     1|Cumings, Mrs. Joh...|female|38.0|    1|    0|        PC 17599|71.2833|  C85|       C|\n",
       "|          3|       1|     3|Heikkinen, Miss. ...|female|26.0|    0|    0|STON/O2. 3101282|  7.925| NULL|       S|\n",
       "|          4|       1|     1|Futrelle, Mrs. Ja...|female|35.0|    1|    0|          113803|   53.1| C123|       S|\n",
       "|          5|       0|     3|Allen, Mr. Willia...|  male|35.0|    0|    0|          373450|   8.05| NULL|       S|\n",
       "|          6|       0|     3|    Moran, Mr. James|  male|NULL|    0|    0|          330877| 8.4583| NULL|       Q|\n",
       "|          7|       0|     1|McCarthy, Mr. Tim...|  male|54.0|    0|    0|           17463|51.8625|  E46|       S|\n",
       "|          8|       0|     3|Palsson, Master. ...|  male| 2.0|    3|    1|          349909| 21.075| NULL|       S|\n",
       "|          9|       1|     3|Johnson, Mrs. Osc...|female|27.0|    0|    2|          347742|11.1333| NULL|       S|\n",
       "|         10|       1|     2|Nasser, Mrs. Nich...|female|14.0|    1|    0|          237736|30.0708| NULL|       C|\n",
       "|         11|       1|     3|Sandstrom, Miss. ...|female| 4.0|    1|    1|         PP 9549|   16.7|   G6|       S|\n",
       "|         12|       1|     1|Bonnell, Miss. El...|female|58.0|    0|    0|          113783|  26.55| C103|       S|\n",
       "|         13|       0|     3|Saundercock, Mr. ...|  male|20.0|    0|    0|       A/5. 2151|   8.05| NULL|       S|\n",
       "|         14|       0|     3|Andersson, Mr. An...|  male|39.0|    1|    5|          347082| 31.275| NULL|       S|\n",
       "|         15|       0|     3|Vestrom, Miss. Hu...|female|14.0|    0|    0|          350406| 7.8542| NULL|       S|\n",
       "|         16|       1|     2|Hewlett, Mrs. (Ma...|female|55.0|    0|    0|          248706|   16.0| NULL|       S|\n",
       "|         17|       0|     3|Rice, Master. Eugene|  male| 2.0|    4|    1|          382652| 29.125| NULL|       Q|\n",
       "|         18|       1|     2|Williams, Mr. Cha...|  male|NULL|    0|    0|          244373|   13.0| NULL|       S|\n",
       "|         19|       0|     3|Vander Planke, Mr...|female|31.0|    1|    0|          345763|   18.0| NULL|       S|\n",
       "|         20|       1|     3|Masselmani, Mrs. ...|female|NULL|    0|    0|            2649|  7.225| NULL|       C|\n",
       "+-----------+--------+------+--------------------+------+----+-----+-----+----------------+-------+-----+--------+\n",
       "only showing top 20 rows"
      ]
     },
     "execution_count": 4,
     "metadata": {},
     "output_type": "execute_result"
    }
   ],
   "source": [
    "train = spark.read.csv(\"../datasets/titanic/train.csv\", header=True, inferSchema=True)\n",
    "train"
   ]
  },
  {
   "cell_type": "markdown",
   "id": "863de92c",
   "metadata": {},
   "source": [
    "# Questão 1"
   ]
  },
  {
   "cell_type": "code",
   "execution_count": 5,
   "id": "dc31ca04",
   "metadata": {},
   "outputs": [
    {
     "data": {
      "text/html": [
       "<table border='1'>\n",
       "<tr><th>count(PassengerId)</th></tr>\n",
       "<tr><td>891</td></tr>\n",
       "</table>\n"
      ],
      "text/plain": [
       "+------------------+\n",
       "|count(PassengerId)|\n",
       "+------------------+\n",
       "|               891|\n",
       "+------------------+"
      ]
     },
     "execution_count": 5,
     "metadata": {},
     "output_type": "execute_result"
    }
   ],
   "source": [
    "total_passageiros = train.agg({'PassengerId': 'count'})\n",
    "total_passageiros"
   ]
  },
  {
   "cell_type": "code",
   "execution_count": 6,
   "id": "c6e7d26b",
   "metadata": {},
   "outputs": [
    {
     "data": {
      "text/plain": [
       "342"
      ]
     },
     "execution_count": 6,
     "metadata": {},
     "output_type": "execute_result"
    }
   ],
   "source": [
    "sobreviventes = train.where(F.col(\"Survived\") == 1).count()\n",
    "sobreviventes"
   ]
  },
  {
   "cell_type": "code",
   "execution_count": 7,
   "id": "6f448ea0",
   "metadata": {},
   "outputs": [
    {
     "data": {
      "text/plain": [
       "38.38383838383838"
      ]
     },
     "execution_count": 7,
     "metadata": {},
     "output_type": "execute_result"
    }
   ],
   "source": [
    "percentual_sobreviventes = (sobreviventes / total_passageiros.collect()[0][0]) * 100\n",
    "percentual_sobreviventes"
   ]
  },
  {
   "cell_type": "code",
   "execution_count": 8,
   "id": "2df8b2fb",
   "metadata": {},
   "outputs": [
    {
     "data": {
      "text/html": [
       "<table border='1'>\n",
       "<tr><th>percentual_sobreviventes</th></tr>\n",
       "<tr><td>38.38383838383838</td></tr>\n",
       "</table>\n"
      ],
      "text/plain": [
       "+------------------------+\n",
       "|percentual_sobreviventes|\n",
       "+------------------------+\n",
       "|       38.38383838383838|\n",
       "+------------------------+"
      ]
     },
     "execution_count": 8,
     "metadata": {},
     "output_type": "execute_result"
    }
   ],
   "source": [
    "df_train = train.createOrReplaceTempView(\"train\")\n",
    "spark.sql(\n",
    "    '''\n",
    "    SELECT \n",
    "        total_sobreviventes * 100 / total_passageiros AS percentual_sobreviventes\n",
    "        FROM (\n",
    "        SELECT \n",
    "            COUNT(PassengerId) AS total_passageiros,\n",
    "            SUM(CASE WHEN Survived = 1 THEN 1 ELSE 0 END) AS total_sobreviventes\n",
    "        FROM train\n",
    "        )\n",
    "    '''\n",
    ")"
   ]
  },
  {
   "cell_type": "markdown",
   "id": "9eb85a75",
   "metadata": {},
   "source": [
    "# Questão 2"
   ]
  },
  {
   "cell_type": "code",
   "execution_count": 9,
   "id": "d0aa6a45",
   "metadata": {},
   "outputs": [
    {
     "data": {
      "text/html": [
       "<table border='1'>\n",
       "<tr><th>media_idade_nao_sobreviventes</th></tr>\n",
       "<tr><td>30.62617924528302</td></tr>\n",
       "</table>\n"
      ],
      "text/plain": [
       "+-----------------------------+\n",
       "|media_idade_nao_sobreviventes|\n",
       "+-----------------------------+\n",
       "|            30.62617924528302|\n",
       "+-----------------------------+"
      ]
     },
     "execution_count": 9,
     "metadata": {},
     "output_type": "execute_result"
    }
   ],
   "source": [
    "spark.sql (\n",
    "    '''\n",
    "    SELECT TOTAL_IDADE / nao_sobreviventes AS media_idade_nao_sobreviventes\n",
    "    FROM (\n",
    "    SELECT \n",
    "        SUM(CASE WHEN Survived = 0 AND Age IS NOT NULL THEN 1 ELSE 0 END) AS nao_sobreviventes,\n",
    "        SUM(CASE WHEN Survived = 0 AND Age IS NOT NULL THEN Age ELSE 0 END) AS TOTAL_IDADE\n",
    "    FROM train\n",
    "    )\n",
    "    '''\n",
    ")\n"
   ]
  },
  {
   "cell_type": "markdown",
   "id": "d1c2f114",
   "metadata": {},
   "source": [
    "# Questão 3"
   ]
  },
  {
   "cell_type": "code",
   "execution_count": 12,
   "id": "9b5b9abd",
   "metadata": {},
   "outputs": [
    {
     "data": {
      "text/html": [
       "<table border='1'>\n",
       "<tr><th>total_sobreviventes_3classe</th></tr>\n",
       "<tr><td>119</td></tr>\n",
       "</table>\n"
      ],
      "text/plain": [
       "+---------------------------+\n",
       "|total_sobreviventes_3classe|\n",
       "+---------------------------+\n",
       "|                        119|\n",
       "+---------------------------+"
      ]
     },
     "execution_count": 12,
     "metadata": {},
     "output_type": "execute_result"
    }
   ],
   "source": [
    "spark.sql(\n",
    "    '''\n",
    "    SELECT \n",
    "        SUM(CASE WHEN Survived = 1 AND Pclass = 3 THEN 1 ELSE 0 END) AS total_sobreviventes_3classe\n",
    "    FROM train\n",
    "    '''\n",
    ")"
   ]
  },
  {
   "cell_type": "markdown",
   "id": "2c6cce48",
   "metadata": {},
   "source": [
    "# Questão 4"
   ]
  },
  {
   "cell_type": "code",
   "execution_count": 13,
   "id": "d65386e6",
   "metadata": {},
   "outputs": [
    {
     "data": {
      "text/html": [
       "<table border='1'>\n",
       "<tr><th>((sum(CASE WHEN ((Sex = female) AND (Survived = 1)) THEN 1 ELSE 0 END) * 100) / sum(CASE WHEN (Sex = female) THEN 1 ELSE 0 END))</th></tr>\n",
       "<tr><td>74.20382165605096</td></tr>\n",
       "</table>\n"
      ],
      "text/plain": [
       "+--------------------------------------------------------------------------------------------------------------------------------+\n",
       "|((sum(CASE WHEN ((Sex = female) AND (Survived = 1)) THEN 1 ELSE 0 END) * 100) / sum(CASE WHEN (Sex = female) THEN 1 ELSE 0 END))|\n",
       "+--------------------------------------------------------------------------------------------------------------------------------+\n",
       "|                                                                                                               74.20382165605096|\n",
       "+--------------------------------------------------------------------------------------------------------------------------------+"
      ]
     },
     "execution_count": 13,
     "metadata": {},
     "output_type": "execute_result"
    }
   ],
   "source": [
    "spark.sql(\n",
    "    '''  \n",
    "    SELECT \n",
    "        SUM(CASE WHEN Sex = 'female' AND Survived = 1 THEN 1 ELSE 0 END) * 100 / SUM(CASE WHEN Sex = 'female' THEN 1 ELSE 0 END)\n",
    "    FROM train\n",
    "        '''\n",
    ")"
   ]
  },
  {
   "cell_type": "markdown",
   "id": "bbd21d63",
   "metadata": {},
   "source": [
    "# Questão 5"
   ]
  },
  {
   "cell_type": "code",
   "execution_count": 19,
   "id": "fa63ee88",
   "metadata": {},
   "outputs": [
    {
     "data": {
      "text/html": [
       "<table border='1'>\n",
       "<tr><th>avg(fare)</th></tr>\n",
       "<tr><td>48.39540760233917</td></tr>\n",
       "</table>\n"
      ],
      "text/plain": [
       "+-----------------+\n",
       "|        avg(fare)|\n",
       "+-----------------+\n",
       "|48.39540760233917|\n",
       "+-----------------+"
      ]
     },
     "execution_count": 19,
     "metadata": {},
     "output_type": "execute_result"
    }
   ],
   "source": [
    "spark.sql(\n",
    "    '''\n",
    "    SELECT \n",
    "        AVG(fare)\n",
    "    FROM train\n",
    "    WHERE survived = 1\n",
    "    '''\n",
    ")"
   ]
  },
  {
   "cell_type": "markdown",
   "id": "9eda9fe8",
   "metadata": {},
   "source": [
    "# Questão 6"
   ]
  },
  {
   "cell_type": "code",
   "execution_count": 23,
   "id": "b12d031b",
   "metadata": {},
   "outputs": [
    {
     "data": {
      "text/html": [
       "<table border='1'>\n",
       "<tr><th>count(1)</th></tr>\n",
       "<tr><td>891</td></tr>\n",
       "</table>\n"
      ],
      "text/plain": [
       "+--------+\n",
       "|count(1)|\n",
       "+--------+\n",
       "|     891|\n",
       "+--------+"
      ]
     },
     "execution_count": 23,
     "metadata": {},
     "output_type": "execute_result"
    }
   ],
   "source": [
    "spark.sql(\"SELECT COUNT(*) FROM train\")"
   ]
  },
  {
   "cell_type": "markdown",
   "id": "922616b9",
   "metadata": {},
   "source": [
    "# Questão 7"
   ]
  },
  {
   "cell_type": "code",
   "execution_count": 25,
   "id": "10d3dce5",
   "metadata": {},
   "outputs": [
    {
     "data": {
      "text/html": [
       "<table border='1'>\n",
       "<tr><th>PROPORCAO</th></tr>\n",
       "<tr><td>64.75869809203142</td></tr>\n",
       "</table>\n"
      ],
      "text/plain": [
       "+-----------------+\n",
       "|        PROPORCAO|\n",
       "+-----------------+\n",
       "|64.75869809203142|\n",
       "+-----------------+"
      ]
     },
     "execution_count": 25,
     "metadata": {},
     "output_type": "execute_result"
    }
   ],
   "source": [
    "spark.sql('''\n",
    "    SELECT\n",
    "          (COUNT(CASE WHEN Sex = 'male' THEN 1 END) * 100 / COUNT(*)) AS PROPORCAO\n",
    "    FROM train\n",
    "''')"
   ]
  },
  {
   "cell_type": "markdown",
   "id": "4108024b",
   "metadata": {},
   "source": [
    "# Questão 8"
   ]
  },
  {
   "cell_type": "code",
   "execution_count": 34,
   "id": "fc777e52",
   "metadata": {},
   "outputs": [
    {
     "data": {
      "text/html": [
       "<table border='1'>\n",
       "<tr><th>PROPORCAO</th></tr>\n",
       "<tr><td>24.236252545824847</td></tr>\n",
       "</table>\n"
      ],
      "text/plain": [
       "+------------------+\n",
       "|         PROPORCAO|\n",
       "+------------------+\n",
       "|24.236252545824847|\n",
       "+------------------+"
      ]
     },
     "execution_count": 34,
     "metadata": {},
     "output_type": "execute_result"
    }
   ],
   "source": [
    "spark.sql('''\n",
    "    SELECT \n",
    "          SUM(CASE WHEN Pclass = 3 AND Survived = 1 THEN 1 END) * 100 / COUNT(CASE WHEN Pclass = 3 THEN 1 END) AS PROPORCAO\n",
    "    FROM train\n",
    "          ''')"
   ]
  },
  {
   "cell_type": "markdown",
   "id": "d07e823c",
   "metadata": {},
   "source": [
    "# Questão 9"
   ]
  },
  {
   "cell_type": "code",
   "execution_count": 44,
   "id": "f52e95fd",
   "metadata": {},
   "outputs": [],
   "source": [
    "mall = spark.read.csv('../datasets/Mall_Customers.csv', header= True, inferSchema=True)"
   ]
  },
  {
   "cell_type": "code",
   "execution_count": 45,
   "id": "ede26ced",
   "metadata": {},
   "outputs": [
    {
     "data": {
      "text/html": [
       "<table border='1'>\n",
       "<tr><th>avg(Age)</th></tr>\n",
       "<tr><td>38.85</td></tr>\n",
       "</table>\n"
      ],
      "text/plain": [
       "+--------+\n",
       "|avg(Age)|\n",
       "+--------+\n",
       "|   38.85|\n",
       "+--------+"
      ]
     },
     "execution_count": 45,
     "metadata": {},
     "output_type": "execute_result"
    }
   ],
   "source": [
    "df_mall = mall.createOrReplaceTempView(\"mall\")\n",
    "\n",
    "spark.sql(\n",
    "    '''\n",
    "    SELECT AVG(Age) FROM mall\n",
    "'''\n",
    ")"
   ]
  },
  {
   "cell_type": "markdown",
   "id": "422a475f",
   "metadata": {},
   "source": [
    "# Questão 10"
   ]
  },
  {
   "cell_type": "code",
   "execution_count": null,
   "id": "dff8cddf",
   "metadata": {},
   "outputs": [],
   "source": []
  },
  {
   "cell_type": "code",
   "execution_count": 46,
   "id": "04d8f4a5",
   "metadata": {},
   "outputs": [
    {
     "data": {
      "text/html": [
       "<table border='1'>\n",
       "<tr><th>count(CASE WHEN (Gender = Female) THEN 1 END)</th></tr>\n",
       "<tr><td>112</td></tr>\n",
       "</table>\n"
      ],
      "text/plain": [
       "+---------------------------------------------+\n",
       "|count(CASE WHEN (Gender = Female) THEN 1 END)|\n",
       "+---------------------------------------------+\n",
       "|                                          112|\n",
       "+---------------------------------------------+"
      ]
     },
     "execution_count": 46,
     "metadata": {},
     "output_type": "execute_result"
    }
   ],
   "source": [
    "spark.sql(\"SELECT COUNT(CASE WHEN Gender = 'Female' THEN 1 END ) FROM mall\")"
   ]
  },
  {
   "cell_type": "markdown",
   "id": "376a5414",
   "metadata": {},
   "source": [
    "# Questão 11"
   ]
  },
  {
   "cell_type": "code",
   "execution_count": 94,
   "id": "cc8d2eec",
   "metadata": {},
   "outputs": [
    {
     "data": {
      "text/html": [
       "<table border='1'>\n",
       "<tr><th>avg(Annual Income (k$))</th></tr>\n",
       "<tr><td>60.56</td></tr>\n",
       "</table>\n"
      ],
      "text/plain": [
       "+-----------------------+\n",
       "|avg(Annual Income (k$))|\n",
       "+-----------------------+\n",
       "|                  60.56|\n",
       "+-----------------------+"
      ]
     },
     "execution_count": 94,
     "metadata": {},
     "output_type": "execute_result"
    }
   ],
   "source": [
    "media_renda_anual = mall.agg((F.avg('Annual Income (k$)')))\n",
    "media_renda_anual"
   ]
  },
  {
   "cell_type": "code",
   "execution_count": 51,
   "id": "7e94132c",
   "metadata": {},
   "outputs": [
    {
     "data": {
      "text/html": [
       "<table border='1'>\n",
       "<tr><th>media_renda_anual</th></tr>\n",
       "<tr><td>60.56</td></tr>\n",
       "</table>\n"
      ],
      "text/plain": [
       "+-----------------+\n",
       "|media_renda_anual|\n",
       "+-----------------+\n",
       "|            60.56|\n",
       "+-----------------+"
      ]
     },
     "execution_count": 51,
     "metadata": {},
     "output_type": "execute_result"
    }
   ],
   "source": [
    "from pyspark.sql.functions import avg\n",
    "mall.select(\n",
    "    avg(\"Annual Income (k$)\").alias(\"media_renda_anual\")\n",
    "    )"
   ]
  },
  {
   "cell_type": "code",
   "execution_count": 53,
   "id": "3f98afee",
   "metadata": {},
   "outputs": [
    {
     "data": {
      "text/html": [
       "<table border='1'>\n",
       "<tr><th>avg(Annual Income (k$))</th></tr>\n",
       "<tr><td>60.56</td></tr>\n",
       "</table>\n"
      ],
      "text/plain": [
       "+-----------------------+\n",
       "|avg(Annual Income (k$))|\n",
       "+-----------------------+\n",
       "|                  60.56|\n",
       "+-----------------------+"
      ]
     },
     "execution_count": 53,
     "metadata": {},
     "output_type": "execute_result"
    }
   ],
   "source": [
    "spark.sql('''\n",
    "    SELECT AVG(`Annual Income (k$)`) FROM mall\n",
    "''')"
   ]
  },
  {
   "cell_type": "markdown",
   "id": "11b93d38",
   "metadata": {},
   "source": [
    "# Questão 12 "
   ]
  },
  {
   "cell_type": "code",
   "execution_count": null,
   "id": "f830a767",
   "metadata": {},
   "outputs": [],
   "source": [
    "mall.describe('Age')"
   ]
  },
  {
   "cell_type": "code",
   "execution_count": 89,
   "id": "7c915b4a",
   "metadata": {},
   "outputs": [
    {
     "data": {
      "text/html": [
       "<table border='1'>\n",
       "<tr><th>stddev_pop(Age)</th></tr>\n",
       "<tr><td>13.934041050606963</td></tr>\n",
       "</table>\n"
      ],
      "text/plain": [
       "+------------------+\n",
       "|   stddev_pop(Age)|\n",
       "+------------------+\n",
       "|13.934041050606963|\n",
       "+------------------+"
      ]
     },
     "execution_count": 89,
     "metadata": {},
     "output_type": "execute_result"
    }
   ],
   "source": [
    "from pyspark.sql.functions import stddev_pop, stddev\n",
    "\n",
    "mall.select(stddev_pop(F.col('Age')))\n"
   ]
  },
  {
   "cell_type": "code",
   "execution_count": 92,
   "id": "25519d7a",
   "metadata": {},
   "outputs": [
    {
     "data": {
      "text/html": [
       "<table border='1'>\n",
       "<tr><th>stddev_pop(Age)</th></tr>\n",
       "<tr><td>13.934041050606963</td></tr>\n",
       "</table>\n"
      ],
      "text/plain": [
       "+------------------+\n",
       "|   stddev_pop(Age)|\n",
       "+------------------+\n",
       "|13.934041050606963|\n",
       "+------------------+"
      ]
     },
     "execution_count": 92,
     "metadata": {},
     "output_type": "execute_result"
    }
   ],
   "source": [
    "desv_idade = mall.agg(F.stddev_pop('Age'))\n",
    "desv_idade"
   ]
  },
  {
   "cell_type": "code",
   "execution_count": 61,
   "id": "cdcbba8d",
   "metadata": {},
   "outputs": [
    {
     "data": {
      "text/html": [
       "<table border='1'>\n",
       "<tr><th>desvio_padrao_populacional_idade</th></tr>\n",
       "<tr><td>13.934041050606963</td></tr>\n",
       "</table>\n"
      ],
      "text/plain": [
       "+--------------------------------+\n",
       "|desvio_padrao_populacional_idade|\n",
       "+--------------------------------+\n",
       "|              13.934041050606963|\n",
       "+--------------------------------+"
      ]
     },
     "execution_count": 61,
     "metadata": {},
     "output_type": "execute_result"
    }
   ],
   "source": [
    "spark.sql( '''\n",
    "   SELECT STDDEV_POP(Age) AS desvio_padrao_populacional_idade FROM mall\n",
    "''')"
   ]
  },
  {
   "cell_type": "markdown",
   "id": "f9acd9eb",
   "metadata": {},
   "source": [
    "# Questão 13"
   ]
  },
  {
   "cell_type": "code",
   "execution_count": 85,
   "id": "0124e144",
   "metadata": {},
   "outputs": [
    {
     "data": {
      "text/plain": [
       "38"
      ]
     },
     "execution_count": 85,
     "metadata": {},
     "output_type": "execute_result"
    }
   ],
   "source": [
    "renda_80k_mais = mall.select(F.col('Annual Income (k$)')).where(F.col('Annual Income (k$)') > 80).count()\n",
    "renda_80k_mais"
   ]
  },
  {
   "cell_type": "code",
   "execution_count": 86,
   "id": "75c8a2b6",
   "metadata": {},
   "outputs": [
    {
     "data": {
      "text/html": [
       "<table border='1'>\n",
       "<tr><th>count(1)</th></tr>\n",
       "<tr><td>38</td></tr>\n",
       "</table>\n"
      ],
      "text/plain": [
       "+--------+\n",
       "|count(1)|\n",
       "+--------+\n",
       "|      38|\n",
       "+--------+"
      ]
     },
     "execution_count": 86,
     "metadata": {},
     "output_type": "execute_result"
    }
   ],
   "source": [
    "spark.sql(\"SELECT COUNT(*) FROM mall WHERE `Annual Income (k$)` > 80\")"
   ]
  },
  {
   "cell_type": "markdown",
   "id": "5d16dd51",
   "metadata": {},
   "source": [
    "# Questão 14"
   ]
  },
  {
   "cell_type": "code",
   "execution_count": 79,
   "id": "9aa94355",
   "metadata": {},
   "outputs": [
    {
     "data": {
      "text/html": [
       "<table border='1'>\n",
       "<tr><th>mode(Spending Score (1-100))</th></tr>\n",
       "<tr><td>42</td></tr>\n",
       "</table>\n"
      ],
      "text/plain": [
       "+----------------------------+\n",
       "|mode(Spending Score (1-100))|\n",
       "+----------------------------+\n",
       "|                          42|\n",
       "+----------------------------+"
      ]
     },
     "execution_count": 79,
     "metadata": {},
     "output_type": "execute_result"
    }
   ],
   "source": [
    "spark.sql('''\n",
    "    SELECT MODE(`Spending Score (1-100)`) FROM mall\n",
    "''')"
   ]
  },
  {
   "cell_type": "code",
   "execution_count": 84,
   "id": "1fb5d6e5",
   "metadata": {},
   "outputs": [
    {
     "data": {
      "text/html": [
       "<table border='1'>\n",
       "<tr><th>mode(Spending Score (1-100))</th></tr>\n",
       "<tr><td>42</td></tr>\n",
       "</table>\n"
      ],
      "text/plain": [
       "+----------------------------+\n",
       "|mode(Spending Score (1-100))|\n",
       "+----------------------------+\n",
       "|                          42|\n",
       "+----------------------------+"
      ]
     },
     "execution_count": 84,
     "metadata": {},
     "output_type": "execute_result"
    }
   ],
   "source": [
    "moda = mall.agg(F.mode('Spending Score (1-100)'))\n",
    "moda"
   ]
  },
  {
   "cell_type": "code",
   "execution_count": null,
   "id": "cbb92861",
   "metadata": {},
   "outputs": [],
   "source": []
  }
 ],
 "metadata": {
  "kernelspec": {
   "display_name": "desafio-spark-py3.11 (3.11.5)",
   "language": "python",
   "name": "python3"
  },
  "language_info": {
   "codemirror_mode": {
    "name": "ipython",
    "version": 3
   },
   "file_extension": ".py",
   "mimetype": "text/x-python",
   "name": "python",
   "nbconvert_exporter": "python",
   "pygments_lexer": "ipython3",
   "version": "3.11.5"
  }
 },
 "nbformat": 4,
 "nbformat_minor": 5
}
